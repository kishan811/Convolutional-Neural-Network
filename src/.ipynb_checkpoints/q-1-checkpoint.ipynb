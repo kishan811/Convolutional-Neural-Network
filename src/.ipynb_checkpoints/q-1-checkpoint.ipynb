{
 "cells": [
  {
   "cell_type": "markdown",
   "metadata": {},
   "source": [
    "## Part 1: Convolution Forward Pass on LeNet 5"
   ]
  },
  {
   "cell_type": "code",
   "execution_count": 1,
   "metadata": {},
   "outputs": [],
   "source": [
    "import numpy as np\n",
    "import pandas as pd\n",
    "import matplotlib.pyplot as plt\n",
    "from PIL import Image\n",
    "import scipy\n",
    "from scipy import ndimage\n",
    "import math"
   ]
  },
  {
   "cell_type": "code",
   "execution_count": 2,
   "metadata": {},
   "outputs": [
    {
     "ename": "FileNotFoundError",
     "evalue": "[Errno 2] No such file or directory: 'images/img_50.jpg'",
     "output_type": "error",
     "traceback": [
      "\u001b[0;31m---------------------------------------------------------------------------\u001b[0m",
      "\u001b[0;31mFileNotFoundError\u001b[0m                         Traceback (most recent call last)",
      "\u001b[0;32m<ipython-input-2-9d73c4fdf9ba>\u001b[0m in \u001b[0;36m<module>\u001b[0;34m\u001b[0m\n\u001b[0;32m----> 1\u001b[0;31m \u001b[0mimg\u001b[0m\u001b[0;34m=\u001b[0m\u001b[0mImage\u001b[0m\u001b[0;34m.\u001b[0m\u001b[0mopen\u001b[0m\u001b[0;34m(\u001b[0m\u001b[0;34m\"images/img_50.jpg\"\u001b[0m\u001b[0;34m)\u001b[0m\u001b[0;34m\u001b[0m\u001b[0;34m\u001b[0m\u001b[0m\n\u001b[0m\u001b[1;32m      2\u001b[0m \u001b[0mimg\u001b[0m\u001b[0;34m=\u001b[0m\u001b[0mimg\u001b[0m\u001b[0;34m.\u001b[0m\u001b[0mresize\u001b[0m\u001b[0;34m(\u001b[0m\u001b[0;34m(\u001b[0m\u001b[0;36m32\u001b[0m\u001b[0;34m,\u001b[0m\u001b[0;36m32\u001b[0m\u001b[0;34m)\u001b[0m\u001b[0;34m)\u001b[0m\u001b[0;34m\u001b[0m\u001b[0;34m\u001b[0m\u001b[0m\n\u001b[1;32m      3\u001b[0m \u001b[0mplt\u001b[0m\u001b[0;34m.\u001b[0m\u001b[0mimshow\u001b[0m\u001b[0;34m(\u001b[0m\u001b[0mimg\u001b[0m\u001b[0;34m)\u001b[0m\u001b[0;34m\u001b[0m\u001b[0;34m\u001b[0m\u001b[0m\n",
      "\u001b[0;32m~/.local/lib/python3.6/site-packages/PIL/Image.py\u001b[0m in \u001b[0;36mopen\u001b[0;34m(fp, mode)\u001b[0m\n\u001b[1;32m   2632\u001b[0m \u001b[0;34m\u001b[0m\u001b[0m\n\u001b[1;32m   2633\u001b[0m     \u001b[0;32mif\u001b[0m \u001b[0mfilename\u001b[0m\u001b[0;34m:\u001b[0m\u001b[0;34m\u001b[0m\u001b[0;34m\u001b[0m\u001b[0m\n\u001b[0;32m-> 2634\u001b[0;31m         \u001b[0mfp\u001b[0m \u001b[0;34m=\u001b[0m \u001b[0mbuiltins\u001b[0m\u001b[0;34m.\u001b[0m\u001b[0mopen\u001b[0m\u001b[0;34m(\u001b[0m\u001b[0mfilename\u001b[0m\u001b[0;34m,\u001b[0m \u001b[0;34m\"rb\"\u001b[0m\u001b[0;34m)\u001b[0m\u001b[0;34m\u001b[0m\u001b[0;34m\u001b[0m\u001b[0m\n\u001b[0m\u001b[1;32m   2635\u001b[0m         \u001b[0mexclusive_fp\u001b[0m \u001b[0;34m=\u001b[0m \u001b[0;32mTrue\u001b[0m\u001b[0;34m\u001b[0m\u001b[0;34m\u001b[0m\u001b[0m\n\u001b[1;32m   2636\u001b[0m \u001b[0;34m\u001b[0m\u001b[0m\n",
      "\u001b[0;31mFileNotFoundError\u001b[0m: [Errno 2] No such file or directory: 'images/img_50.jpg'"
     ]
    }
   ],
   "source": [
    "img=Image.open(\"images/img_50.jpg\")\n",
    "img=img.resize((32,32))\n",
    "plt.imshow(img)"
   ]
  },
  {
   "cell_type": "code",
   "execution_count": 3,
   "metadata": {},
   "outputs": [
    {
     "data": {
      "text/plain": [
       "(32, 32, 1)"
      ]
     },
     "execution_count": 3,
     "metadata": {},
     "output_type": "execute_result"
    }
   ],
   "source": [
    "inp=np.array(img)\n",
    "inp=inp.reshape(32,32,1)\n",
    "inp.shape"
   ]
  },
  {
   "cell_type": "code",
   "execution_count": 4,
   "metadata": {},
   "outputs": [],
   "source": [
    "def relu(x):\n",
    "    x[x < 0] = 0\n",
    "    return x\n",
    "\n",
    "def sigmoid(x):  \n",
    "    return 1/(1+np.exp(-x))\n",
    "\n",
    "def softmax(A):  \n",
    "    expA = np.exp(A)\n",
    "    return expA / expA.sum(axis=1, keepdims=True)"
   ]
  },
  {
   "cell_type": "code",
   "execution_count": 5,
   "metadata": {},
   "outputs": [],
   "source": [
    "def convo_each_step(Previous_slice, Wt, bias):\n",
    "    temp = np.multiply(Previous_slice,Wt)\n",
    "    Z = np.sum(temp)\n",
    "    Z = Z+(bias)\n",
    "    Z = relu(Z)\n",
    "    return Z"
   ]
  },
  {
   "cell_type": "code",
   "execution_count": 6,
   "metadata": {},
   "outputs": [],
   "source": [
    "Wt=np.random.randn(5,5,1,6)\n",
    "bias=np.random.randn(1,1,1,6)\n",
    "hyperparams = {\"pad\" : 0,\n",
    "               \"stride\": 1}"
   ]
  },
  {
   "cell_type": "code",
   "execution_count": 7,
   "metadata": {},
   "outputs": [],
   "source": [
    "def convo_forwardprop(IMAGE, Wt, bias, hyperparams):\n",
    "    (ht_p, width_p, channels_p) = IMAGE.shape\n",
    "    (f, f, channels_p, channels) = Wt.shape\n",
    "    \n",
    "    stride = hyperparams[\"stride\"]\n",
    "    pad = hyperparams[\"pad\"]\n",
    "    \n",
    "    ht = int((ht_p-f)/stride)+1\n",
    "    width = int((width_p-f)/stride)+1\n",
    "    \n",
    "    Z =np.zeros((ht,width,channels))\n",
    "                            \n",
    "    for h in range(ht):             \n",
    "        for w in range(width):                      \n",
    "            for c in range(channels):                   \n",
    "                vStart = h*stride\n",
    "                vEnd = vStart+f\n",
    "                hStart = w*stride\n",
    "                hEnd = hStart+f\n",
    "                a_slice_prev = IMAGE[vStart:vEnd,hStart:hEnd,:]\n",
    "                Z[h, w, c] = convo_each_step(a_slice_prev,Wt[:,:,:,c],bias[:,:,:,c])\n",
    "\n",
    "    return Z"
   ]
  },
  {
   "cell_type": "code",
   "execution_count": 8,
   "metadata": {},
   "outputs": [],
   "source": [
    "def pooling_forwardprop(IMAGE,hyperparams,f_size,mode = \"max\"):\n",
    "    (ht_p, width_p, channels_p) = IMAGE.shape\n",
    "    \n",
    "    stride = hyperparams[\"stride\"]\n",
    "    \n",
    "    ht = int((ht_p-f_size)/stride)+1\n",
    "    width = int((width_p-f_size)/stride)+1\n",
    "    channels=channels_p\n",
    "    \n",
    "    Z=np.zeros((ht,width,channels))             \n",
    "    \n",
    "    for h in range(ht):             \n",
    "        for w in range(width):                      \n",
    "            for c in range(channels):            \n",
    "                vStart = h*stride\n",
    "                vEnd = vStart+f_size\n",
    "                hStart = w*stride\n",
    "                hEnd = hStart+f_size\n",
    "                a_slice_prev =IMAGE[vStart:vEnd,hStart:hEnd,c]\n",
    "                if mode == \"max\":\n",
    "                    Z[h, w, c] = np.max(a_slice_prev)\n",
    "    \n",
    "    return Z"
   ]
  },
  {
   "cell_type": "code",
   "execution_count": 9,
   "metadata": {},
   "outputs": [],
   "source": [
    "Z=convo_forwardprop(inp, Wt, bias, hyperparams)"
   ]
  },
  {
   "cell_type": "code",
   "execution_count": 10,
   "metadata": {},
   "outputs": [
    {
     "data": {
      "text/plain": [
       "(28, 28, 6)"
      ]
     },
     "execution_count": 10,
     "metadata": {},
     "output_type": "execute_result"
    }
   ],
   "source": [
    "Z.shape"
   ]
  },
  {
   "cell_type": "code",
   "execution_count": 11,
   "metadata": {},
   "outputs": [
    {
     "data": {
      "image/png": "[encoded data removed]",
      "text/plain": [
       "<Figure size 432x288 with 6 Axes>"
      ]
     },
     "metadata": {
      "needs_background": "light"
     },
     "output_type": "display_data"
    }
   ],
   "source": [
    "fig, axes = plt.subplots(2,3)\n",
    "for i in range(3):\n",
    "    x=Image.fromarray(Z[:,:,i])\n",
    "    axes[0,i].imshow(x)\n",
    "#     plt.imshow(x)\n",
    "for i in range(3):\n",
    "    x=Image.fromarray(Z[:,:,i+3])\n",
    "    axes[1,i].imshow(x)"
   ]
  },
  {
   "cell_type": "code",
   "execution_count": 12,
   "metadata": {},
   "outputs": [
    {
     "data": {
      "text/plain": [
       "(28, 28, 6)"
      ]
     },
     "execution_count": 12,
     "metadata": {},
     "output_type": "execute_result"
    }
   ],
   "source": [
    "inp1=Z\n",
    "inp1.shape"
   ]
  },
  {
   "cell_type": "code",
   "execution_count": 13,
   "metadata": {},
   "outputs": [],
   "source": [
    "Wt=np.random.randn(2,2,6,6)\n",
    "bias=np.random.rand(1,1,1,6)\n",
    "hyperparams = {\"pad\" : 0,\n",
    "               \"stride\": 2}\n",
    "Z=pooling_forwardprop(inp1,hyperparams,2)"
   ]
  },
  {
   "cell_type": "code",
   "execution_count": 14,
   "metadata": {},
   "outputs": [
    {
     "data": {
      "text/plain": [
       "(14, 14, 6)"
      ]
     },
     "execution_count": 14,
     "metadata": {},
     "output_type": "execute_result"
    }
   ],
   "source": [
    "Z.shape"
   ]
  },
  {
   "cell_type": "code",
   "execution_count": 15,
   "metadata": {},
   "outputs": [
    {
     "data": {
      "image/png": "[encoded data removed]",
      "text/plain": [
       "<Figure size 432x288 with 6 Axes>"
      ]
     },
     "metadata": {
      "needs_background": "light"
     },
     "output_type": "display_data"
    }
   ],
   "source": [
    "fig, axes = plt.subplots(2,3)\n",
    "for i in range(3):\n",
    "    x=Image.fromarray(Z[:,:,i])\n",
    "    axes[0,i].imshow(x)\n",
    "#     plt.imshow(x)\n",
    "for i in range(3):\n",
    "    x=Image.fromarray(Z[:,:,i+3])\n",
    "    axes[1,i].imshow(x)"
   ]
  },
  {
   "cell_type": "code",
   "execution_count": 16,
   "metadata": {},
   "outputs": [
    {
     "data": {
      "text/plain": [
       "(14, 14, 6)"
      ]
     },
     "execution_count": 16,
     "metadata": {},
     "output_type": "execute_result"
    }
   ],
   "source": [
    "inp2=Z\n",
    "inp2.shape"
   ]
  },
  {
   "cell_type": "code",
   "execution_count": 17,
   "metadata": {},
   "outputs": [
    {
     "data": {
      "text/plain": [
       "(10, 10, 16)"
      ]
     },
     "execution_count": 17,
     "metadata": {},
     "output_type": "execute_result"
    }
   ],
   "source": [
    "Wt=np.random.randn(5,5,6,16)\n",
    "bias=np.random.rand(1,1,1,16)\n",
    "hyperparams = {\"pad\" : 0,\n",
    "               \"stride\": 1}\n",
    "Z= convo_forwardprop(inp2, Wt, bias, hyperparams)\n",
    "Z.shape"
   ]
  },
  {
   "cell_type": "code",
   "execution_count": 18,
   "metadata": {},
   "outputs": [
    {
     "data": {
      "image/png": "[encoded data removed]",
      "text/plain": [
       "<Figure size 432x288 with 16 Axes>"
      ]
     },
     "metadata": {
      "needs_background": "light"
     },
     "output_type": "display_data"
    }
   ],
   "source": [
    "fig, axes = plt.subplots(2,8)\n",
    "for i in range(8):\n",
    "    x=Image.fromarray(Z[:,:,i])\n",
    "    axes[0,i].imshow(x)\n",
    "#     plt.imshow(x)\n",
    "for i in range(8):\n",
    "    x=Image.fromarray(Z[:,:,i+8])\n",
    "    axes[1,i].imshow(x)"
   ]
  },
  {
   "cell_type": "code",
   "execution_count": 19,
   "metadata": {},
   "outputs": [
    {
     "data": {
      "text/plain": [
       "(10, 10, 16)"
      ]
     },
     "execution_count": 19,
     "metadata": {},
     "output_type": "execute_result"
    }
   ],
   "source": [
    "inp3=Z\n",
    "inp3.shape"
   ]
  },
  {
   "cell_type": "code",
   "execution_count": 20,
   "metadata": {},
   "outputs": [
    {
     "data": {
      "text/plain": [
       "(5, 5, 16)"
      ]
     },
     "execution_count": 20,
     "metadata": {},
     "output_type": "execute_result"
    }
   ],
   "source": [
    "Wt=np.random.randn(2,2,16,16)\n",
    "bias=np.random.rand(1,1,1,16)\n",
    "hyperparams = {\"pad\" : 0,\n",
    "               \"stride\": 2}\n",
    "Z= pooling_forwardprop(inp3, hyperparams, 2)\n",
    "Z.shape"
   ]
  },
  {
   "cell_type": "code",
   "execution_count": 21,
   "metadata": {},
   "outputs": [
    {
     "data": {
      "image/png": "[encoded data removed]",
      "text/plain": [
       "<Figure size 432x288 with 16 Axes>"
      ]
     },
     "metadata": {
      "needs_background": "light"
     },
     "output_type": "display_data"
    }
   ],
   "source": [
    "fig, axes = plt.subplots(2,8)\n",
    "for i in range(8):\n",
    "    x=Image.fromarray(Z[:,:,i])\n",
    "    axes[0,i].imshow(x)\n",
    "#     plt.imshow(x)\n",
    "for i in range(8):\n",
    "    x=Image.fromarray(Z[:,:,i+8])\n",
    "    axes[1,i].imshow(x)"
   ]
  },
  {
   "cell_type": "code",
   "execution_count": 22,
   "metadata": {},
   "outputs": [
    {
     "data": {
      "text/plain": [
       "(5, 5, 16)"
      ]
     },
     "execution_count": 22,
     "metadata": {},
     "output_type": "execute_result"
    }
   ],
   "source": [
    "inp4=Z\n",
    "inp4.shape"
   ]
  },
  {
   "cell_type": "code",
   "execution_count": 23,
   "metadata": {},
   "outputs": [
    {
     "data": {
      "text/plain": [
       "(1, 1, 120)"
      ]
     },
     "execution_count": 23,
     "metadata": {},
     "output_type": "execute_result"
    }
   ],
   "source": [
    "Wt=np.random.randn(5,5,16,120)\n",
    "bias=np.random.rand(1,1,1,120)\n",
    "hyperparams = {\"pad\" : 0,\n",
    "               \"stride\": 1}\n",
    "Z= convo_forwardprop(inp4, Wt, bias, hyperparams)\n",
    "Z.shape"
   ]
  },
  {
   "cell_type": "code",
   "execution_count": 24,
   "metadata": {},
   "outputs": [],
   "source": [
    "# fig, axes = plt.subplots(2,60)\n",
    "# for i in range(60):\n",
    "#     x=Image.fromarray(Z[:,:,i])\n",
    "#     axes[0,i].imshow(x)\n",
    "# for i in range(60):\n",
    "#     x=Image.fromarray(Z[:,:,i+60])\n",
    "#     axes[1,i].imshow(x)"
   ]
  },
  {
   "cell_type": "code",
   "execution_count": 25,
   "metadata": {},
   "outputs": [
    {
     "data": {
      "text/plain": [
       "(84, 1)"
      ]
     },
     "execution_count": 25,
     "metadata": {},
     "output_type": "execute_result"
    }
   ],
   "source": [
    "Act_c3=Z.reshape(120,1)\n",
    "WH=np.random.randn(120,84)*0.001\n",
    "ZH=np.dot(Act_c3.T,WH)\n",
    "AH2=relu(ZH)\n",
    "AH2=AH2.T\n",
    "AH2.shape"
   ]
  },
  {
   "cell_type": "code",
   "execution_count": 26,
   "metadata": {},
   "outputs": [
    {
     "data": {
      "text/plain": [
       "(10, 1)"
      ]
     },
     "execution_count": 26,
     "metadata": {},
     "output_type": "execute_result"
    }
   ],
   "source": [
    "WH2=np.random.randn(84,10)*0.001\n",
    "ZH2=np.dot(AH2.T,WH2)\n",
    "AHfinal=relu(ZH2)\n",
    "AHfinal.T.shape"
   ]
  },
  {
   "cell_type": "code",
   "execution_count": 27,
   "metadata": {},
   "outputs": [
    {
     "data": {
      "text/plain": [
       "2"
      ]
     },
     "execution_count": 27,
     "metadata": {},
     "output_type": "execute_result"
    }
   ],
   "source": [
    "np.argmax(AHfinal.T)"
   ]
  },
  {
   "cell_type": "code",
   "execution_count": 28,
   "metadata": {},
   "outputs": [],
   "source": [
    "# Wt_pool2=np.random.randn(400,120)*0.001\n",
    "# Z_pool2=np.dot(Act_pool2,Wt_pool2)\n",
    "# Z_pool2=Z_pool2.T\n",
    "# Z_pool2.shape"
   ]
  },
  {
   "cell_type": "code",
   "execution_count": 29,
   "metadata": {},
   "outputs": [],
   "source": [
    "# AH=relu(Z_pool2)\n",
    "# WH=np.random.randn(120,84)*0.001\n",
    "# ZH=np.dot(AH.T,WH)\n",
    "# AH2=relu(ZH)\n",
    "# AH2=AH2.T\n",
    "# AH2.shape"
   ]
  },
  {
   "cell_type": "code",
   "execution_count": 30,
   "metadata": {},
   "outputs": [],
   "source": [
    "# WH2=np.random.randn(10,84)*0.001\n",
    "# ZH2=np.dot(WH2,AH2)\n",
    "# AHfinal=relu(ZH2)\n",
    "# AHfinal.shape"
   ]
  },
  {
   "cell_type": "code",
   "execution_count": 31,
   "metadata": {},
   "outputs": [],
   "source": [
    "# AHfinal"
   ]
  },
  {
   "cell_type": "markdown",
   "metadata": {},
   "source": [
    "## Part 2:\n",
    "#### 1. Number of parameters in 1st convolution layer = ( Height * Width + Bias ) * No.of Channels = (5 * 5 * 1 + 1) * 6 = 156\n",
    "#### 2. Number of parameters in pooling operation = 0\n",
    "#### 3.  No. of parameters in following:- <br>\n",
    "#### a) Conv 1 = 156 <br>   &nbsp; &nbsp; Conv 2 = (5 * 5 * 6 + 1) * 16 = 2416 \n",
    "#### b) Pool = 0 <br>\n",
    "#### c) Fully connected layer (FC) = (84 + 1) * 120 = 10,200 <br>\n",
    "#### d) Activation Functions = 84 <br>\n",
    "####  &nbsp; &nbsp; So, Fully connected layer contains most number of parameters.\n",
    "#### 4. Fully connected layers at the end consume most amount of memory as their weight and activations matrix is more complex than convolutional layers feature map matrix."
   ]
  },
  {
   "cell_type": "code",
   "execution_count": null,
   "metadata": {},
   "outputs": [],
   "source": []
  }
 ],
 "metadata": {
  "kernelspec": {
   "display_name": "Python 3",
   "language": "python",
   "name": "python3"
  },
  "language_info": {
   "codemirror_mode": {
    "name": "ipython",
    "version": 3
   },
   "file_extension": ".py",
   "mimetype": "text/x-python",
   "name": "python",
   "nbconvert_exporter": "python",
   "pygments_lexer": "ipython3",
   "version": "3.6.7"
  }
 },
 "nbformat": 4,
 "nbformat_minor": 2
}
